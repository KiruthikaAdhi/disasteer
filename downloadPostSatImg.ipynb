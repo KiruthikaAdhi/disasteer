{
 "cells": [
  {
   "cell_type": "code",
   "execution_count": 1,
   "metadata": {},
   "outputs": [],
   "source": [
    "import sys\n",
    "import urllib\n",
    "import os.path\n"
   ]
  },
  {
   "cell_type": "code",
   "execution_count": 2,
   "metadata": {},
   "outputs": [],
   "source": [
    "def downloadFiles(fileUrlList, overwriteIfExists=False):\n",
    "\tfor fileUrl in fileUrlList:\n",
    "\t\tfilename = \"PostDisaster/\" + fileUrl[fileUrl.rfind(\"/\")+1:]\n",
    "\t\tif overwriteIfExists or not os.path.isfile(filename):\n",
    "\t\t\topener = urllib.URLopener()\n",
    "\t\t\topener.retrieve(fileUrl, filename)\n",
    "\t\t\tprint('downloaded file: {}'.format(filename))\n",
    "\n",
    "def filterListByExtension(fileUrlList, extension):\n",
    "\tresult = []\n",
    "\tfor fileUrl in fileUrlList:\n",
    "\t\tif fileUrl.endswith(extension):\n",
    "\t\t\tresult.append(fileUrl)\n",
    "\t\t\tprint('added to queue: {}'.format(fileUrl))\n",
    "\treturn result\n"
   ]
  },
  {
   "cell_type": "code",
   "execution_count": 4,
   "metadata": {},
   "outputs": [
    {
     "name": "stdout",
     "output_type": "stream",
     "text": [
      "['http://opendata.digitalglobe.com/hurricane-michael/post-event/2018-10-13/105001001292E000/2121313.tif http://opendata.digitalglobe.com/hurricane-michael/post-event/2018-10-13/105001001292E000/2121313.tif.ovr http://opendata.digitalglobe.com/hurricane-michael/post-event/2018-10-13/105001001292E000/2121331.tif http://opendata.digitalglobe.com/hurricane-michael/post-event/2018-10-13/105001001292E000/2121331.tif.ovr http://opendata.digitalglobe.com/hurricane-michael/post-event/2018-10-13/105001001292E000/2121333.tif http://opendata.digitalglobe.com/hurricane-michael/post-event/2018-10-13/105001001292E000/2121333.tif.ovr http://opendata.digitalglobe.com/hurricane-michael/post-event/2018-10-13/105001001292E000/2123111.tif http://opendata.digitalglobe.com/hurricane-michael/post-event/2018-10-13/105001001292E000/2123111.tif.ovr http://opendata.digitalglobe.com/hurricane-michael/post-event/2018-10-13/105001001292E000/2123113.tif http://opendata.digitalglobe.com/hurricane-michael/post-event/2018-10-13/105001001292E000/2123113.tif.ovr http://opendata.digitalglobe.com/hurricane-michael/post-event/2018-10-13/105001001292E000/2130202.tif http://opendata.digitalglobe.com/hurricane-michael/post-event/2018-10-13/105001001292E000/2130202.tif.ovr http://opendata.digitalglobe.com/hurricane-michael/post-event/2018-10-13/105001001292E000/2130203.tif http://opendata.digitalglobe.com/hurricane-michael/post-event/2018-10-13/105001001292E000/2130203.tif.ovr http://opendata.digitalglobe.com/hurricane-michael/post-event/2018-10-13/105001001292E000/2130220.tif http://opendata.digitalglobe.com/hurricane-michael/post-event/2018-10-13/105001001292E000/2130220.tif.ovr http://opendata.digitalglobe.com/hurricane-michael/post-event/2018-10-13/105001001292E000/2130221.tif http://opendata.digitalglobe.com/hurricane-michael/post-event/2018-10-13/105001001292E000/2130221.tif.ovr http://opendata.digitalglobe.com/hurricane-michael/post-event/2018-10-13/105001001292E000/2130222.tif http://opendata.digitalglobe.com/hurricane-michael/post-event/2018-10-13/105001001292E000/2130222.tif.ovr http://opendata.digitalglobe.com/hurricane-michael/post-event/2018-10-13/105001001292E000/2130223.tif http://opendata.digitalglobe.com/hurricane-michael/post-event/2018-10-13/105001001292E000/2130223.tif.ovr http://opendata.digitalglobe.com/hurricane-michael/post-event/2018-10-13/105001001292E000/2132000.tif http://opendata.digitalglobe.com/hurricane-michael/post-event/2018-10-13/105001001292E000/2132000.tif.ovr http://opendata.digitalglobe.com/hurricane-michael/post-event/2018-10-13/105001001292E000/2132001.tif http://opendata.digitalglobe.com/hurricane-michael/post-event/2018-10-13/105001001292E000/2132001.tif.ovr http://opendata.digitalglobe.com/hurricane-michael/post-event/2018-10-13/105001001292E000/2132002.tif http://opendata.digitalglobe.com/hurricane-michael/post-event/2018-10-13/105001001292E000/2132002.tif.ovr http://opendata.digitalglobe.com/hurricane-michael/post-event/2018-10-13/105001001292E000/2132003.tif http://opendata.digitalglobe.com/hurricane-michael/post-event/2018-10-13/105001001292E000/2132003.tif.ovr ']\n",
      "\n"
     ]
    }
   ],
   "source": [
    "fileWithUrlList = \"PostDisaster/Url.txt\"\n",
    "with open(fileWithUrlList) as f:\n",
    "    content = f.readlines()\n",
    "    print(content)\n",
    "    # remove whitespace characters at the end of each line\n",
    "    content = [x.strip() for x in content] \n",
    "    tiffList = filterListByExtension(content, '.tif')\n",
    "    print()\n",
    "    downloadFiles(tiffList)"
   ]
  },
  {
   "cell_type": "code",
   "execution_count": null,
   "metadata": {},
   "outputs": [],
   "source": []
  }
 ],
 "metadata": {
  "kernelspec": {
   "display_name": "Python [conda env:AzureML]",
   "language": "python",
   "name": "conda-env-AzureML-py"
  },
  "language_info": {
   "codemirror_mode": {
    "name": "ipython",
    "version": 3
   },
   "file_extension": ".py",
   "mimetype": "text/x-python",
   "name": "python",
   "nbconvert_exporter": "python",
   "pygments_lexer": "ipython3",
   "version": "3.6.6"
  }
 },
 "nbformat": 4,
 "nbformat_minor": 2
}
