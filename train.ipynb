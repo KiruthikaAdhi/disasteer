{
 "cells": [
  {
   "cell_type": "code",
   "execution_count": 1,
   "metadata": {},
   "outputs": [],
   "source": [
    "import numpy as np\n",
    "import tensorflow as tf\n",
    "import pandas as pd\n",
    "from sklearn.model_selection import train_test_split"
   ]
  },
  {
   "cell_type": "code",
   "execution_count": 2,
   "metadata": {},
   "outputs": [
    {
     "name": "stdout",
     "output_type": "stream",
     "text": [
      "(7997709, 76)\n",
      "    c1   c2   c3   c4   c5   c6   c7   c8   c9  c10   ...    c67  c68  c69  \\\n",
      "0  107  112  122  109  113  124  114  119  128  107   ...    110  114  126   \n",
      "1   36   48   35   50   68   48   55   75   47   67   ...     42   55   37   \n",
      "2  151  133   93  142  127   92  151  130   97  148   ...    147  132   89   \n",
      "3   58   56   48   92   70   66   73   60   61   50   ...     65   66   51   \n",
      "4  115  116   91  122  113   86  114  122   91   73   ...    129  124  115   \n",
      "\n",
      "   c70  c71  c72  c73  c74  c75  isroad  \n",
      "0  110  115  127  110  115  127       1  \n",
      "1   43   56   49   54   79   46       0  \n",
      "2  134  119   86  146  127   90       0  \n",
      "3   52   63   45   60   70   50       1  \n",
      "4  153  150  148  147  145  149       0  \n",
      "\n",
      "[5 rows x 76 columns]\n"
     ]
    }
   ],
   "source": [
    "trainFile = 'trainDataset8.csv'\n",
    "trainData = pd.read_csv(trainFile)\n",
    "print(trainData.shape)\n",
    "print(trainData.head())"
   ]
  },
  {
   "cell_type": "code",
   "execution_count": 3,
   "metadata": {},
   "outputs": [
    {
     "name": "stdout",
     "output_type": "stream",
     "text": [
      "['c1', 'c2', 'c3', 'c4', 'c5', 'c6', 'c7', 'c8', 'c9', 'c10', 'c11', 'c12', 'c13', 'c14', 'c15', 'c16', 'c17', 'c18', 'c19', 'c20', 'c21', 'c22', 'c23', 'c24', 'c25', 'c26', 'c27', 'c28', 'c29', 'c30', 'c31', 'c32', 'c33', 'c34', 'c35', 'c36', 'c37', 'c38', 'c39', 'c40', 'c41', 'c42', 'c43', 'c44', 'c45', 'c46', 'c47', 'c48', 'c49', 'c50', 'c51', 'c52', 'c53', 'c54', 'c55', 'c56', 'c57', 'c58', 'c59', 'c60', 'c61', 'c62', 'c63', 'c64', 'c65', 'c66', 'c67', 'c68', 'c69', 'c70', 'c71', 'c72', 'c73', 'c74', 'c75']\n",
      "INFO:tensorflow:Using config: {'_model_dir': 'Model3', '_tf_random_seed': None, '_save_summary_steps': 100, '_save_checkpoints_steps': 1000, '_save_checkpoints_secs': None, '_session_config': None, '_keep_checkpoint_max': 5, '_keep_checkpoint_every_n_hours': 10000, '_log_step_count_steps': 100, '_train_distribute': None, '_device_fn': None, '_service': None, '_cluster_spec': <tensorflow.python.training.server_lib.ClusterSpec object at 0x000001F2BDB05B00>, '_task_type': 'worker', '_task_id': 0, '_global_id_in_cluster': 0, '_master': '', '_evaluation_master': '', '_is_chief': True, '_num_ps_replicas': 0, '_num_worker_replicas': 1}\n"
     ]
    }
   ],
   "source": [
    "target = trainData.isroad\n",
    "features = trainData.drop('isroad', axis = 1)\n",
    "x_train, x_test, y_train, y_test = train_test_split( features, target, test_size=0.2)\n",
    "\n",
    "numeric_columns = []\n",
    "for i in range(1,76):\n",
    "    numeric_columns.append(\"c\"+str(i))\n",
    "print(numeric_columns)\n",
    "numeric_features = [ tf.feature_column.numeric_column(key = column)\n",
    "                    for column in numeric_columns]\n",
    "\n",
    "training_input_fn = tf.estimator.inputs.pandas_input_fn(\n",
    "                    x = x_train,\n",
    "                    y = y_train,\n",
    "                    batch_size = 32,\n",
    "                    shuffle = True,\n",
    "                    num_epochs = None    \n",
    "                    )\n",
    "eval_input_fn =  tf.estimator.inputs.pandas_input_fn(\n",
    "                    x = x_test,\n",
    "                    y = y_test,\n",
    "                    batch_size = 32,\n",
    "                    shuffle = False,\n",
    "                    num_epochs = 1    \n",
    "                    )\n",
    "\n",
    "trainingSteps = 1000\n",
    "total = 5000\n",
    "classifierConfig = tf.estimator.RunConfig(save_checkpoints_secs = None, save_checkpoints_steps = trainingSteps)\n",
    "hiddenUnits = [100, 150, 100, 50]\n",
    "classes = 2\n",
    "modelDir = 'Model3'\n",
    "\n",
    "classifier = tf.estimator.DNNClassifier(feature_columns = numeric_features,\n",
    "                                             hidden_units = hiddenUnits,\n",
    "                                             n_classes = classes,\n",
    "                                             model_dir = modelDir,\n",
    "                                             config = classifierConfig)"
   ]
  },
  {
   "cell_type": "code",
   "execution_count": 11,
   "metadata": {},
   "outputs": [
    {
     "name": "stdout",
     "output_type": "stream",
     "text": [
      "INFO:tensorflow:Calling model_fn.\n",
      "INFO:tensorflow:Done calling model_fn.\n",
      "INFO:tensorflow:Create CheckpointSaverHook.\n",
      "INFO:tensorflow:Graph was finalized.\n",
      "INFO:tensorflow:Restoring parameters from Model3\\model.ckpt-8000\n",
      "INFO:tensorflow:Running local_init_op.\n",
      "INFO:tensorflow:Done running local_init_op.\n",
      "INFO:tensorflow:Saving checkpoints for 8000 into Model3\\model.ckpt.\n",
      "INFO:tensorflow:loss = 14.030398, step = 8000\n",
      "INFO:tensorflow:global_step/sec: 109.051\n",
      "INFO:tensorflow:loss = 18.169788, step = 8100 (0.919 sec)\n",
      "INFO:tensorflow:global_step/sec: 147.71\n",
      "INFO:tensorflow:loss = 14.534782, step = 8200 (0.677 sec)\n",
      "INFO:tensorflow:global_step/sec: 144.718\n",
      "INFO:tensorflow:loss = 11.973782, step = 8300 (0.696 sec)\n",
      "INFO:tensorflow:global_step/sec: 138.504\n",
      "INFO:tensorflow:loss = 10.733546, step = 8400 (0.717 sec)\n",
      "INFO:tensorflow:global_step/sec: 143.885\n",
      "INFO:tensorflow:loss = 14.7603245, step = 8500 (0.695 sec)\n",
      "INFO:tensorflow:global_step/sec: 140.449\n",
      "INFO:tensorflow:loss = 17.049969, step = 8600 (0.712 sec)\n",
      "INFO:tensorflow:global_step/sec: 145.349\n",
      "INFO:tensorflow:loss = 17.833218, step = 8700 (0.688 sec)\n",
      "INFO:tensorflow:global_step/sec: 145.137\n",
      "INFO:tensorflow:loss = 12.719949, step = 8800 (0.689 sec)\n",
      "INFO:tensorflow:global_step/sec: 147.059\n",
      "INFO:tensorflow:loss = 13.022598, step = 8900 (0.680 sec)\n",
      "INFO:tensorflow:Saving checkpoints for 9000 into Model3\\model.ckpt.\n",
      "INFO:tensorflow:Loss for final step: 11.371294.\n",
      "INFO:tensorflow:Calling model_fn.\n",
      "WARNING:tensorflow:Trapezoidal rule is known to produce incorrect PR-AUCs; please switch to \"careful_interpolation\" instead.\n",
      "WARNING:tensorflow:Trapezoidal rule is known to produce incorrect PR-AUCs; please switch to \"careful_interpolation\" instead.\n",
      "INFO:tensorflow:Done calling model_fn.\n",
      "INFO:tensorflow:Starting evaluation at 2018-12-07-11:52:49\n",
      "INFO:tensorflow:Graph was finalized.\n",
      "INFO:tensorflow:Restoring parameters from Model3\\model.ckpt-9000\n",
      "INFO:tensorflow:Running local_init_op.\n",
      "INFO:tensorflow:Done running local_init_op.\n",
      "INFO:tensorflow:Evaluation [1/1]\n",
      "INFO:tensorflow:Finished evaluation at 2018-12-07-11:52:50\n",
      "INFO:tensorflow:Saving dict for global step 9000: accuracy = 0.84375, accuracy_baseline = 0.6875, auc = 0.8340909, auc_precision_recall = 0.7446572, average_loss = 0.45991156, global_step = 9000, label/mean = 0.3125, loss = 14.71717, precision = 0.7777778, prediction/mean = 0.30360436, recall = 0.7\n",
      "INFO:tensorflow:Saving 'checkpoint_path' summary for global step 9000: Model3\\model.ckpt-9000\n",
      "0.84375\n"
     ]
    }
   ],
   "source": [
    "classifier.train( input_fn = training_input_fn, steps = 1000)\n",
    "accuracy = classifier.evaluate(input_fn = eval_input_fn, steps=1)['accuracy']\n",
    "print(accuracy)"
   ]
  },
  {
   "cell_type": "code",
   "execution_count": null,
   "metadata": {},
   "outputs": [],
   "source": []
  }
 ],
 "metadata": {
  "kernelspec": {
   "display_name": "Python [conda env:AzureML]",
   "language": "python",
   "name": "conda-env-AzureML-py"
  },
  "language_info": {
   "codemirror_mode": {
    "name": "ipython",
    "version": 3
   },
   "file_extension": ".py",
   "mimetype": "text/x-python",
   "name": "python",
   "nbconvert_exporter": "python",
   "pygments_lexer": "ipython3",
   "version": "3.6.6"
  }
 },
 "nbformat": 4,
 "nbformat_minor": 2
}
